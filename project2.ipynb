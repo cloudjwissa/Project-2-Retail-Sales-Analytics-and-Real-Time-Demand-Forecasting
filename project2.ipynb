{
 "cells": [
  {
   "cell_type": "code",
   "execution_count": 1,
   "metadata": {},
   "outputs": [
    {
     "name": "stderr",
     "output_type": "stream",
     "text": [
      "24/11/12 23:57:36 WARN Utils: Your hostname, codespaces-38b548 resolves to a loopback address: 127.0.0.1; using 10.0.2.61 instead (on interface eth0)\n",
      "24/11/12 23:57:36 WARN Utils: Set SPARK_LOCAL_IP if you need to bind to another address\n",
      "Setting default log level to \"WARN\".\n",
      "To adjust logging level use sc.setLogLevel(newLevel). For SparkR, use setLogLevel(newLevel).\n",
      "24/11/12 23:57:36 WARN NativeCodeLoader: Unable to load native-hadoop library for your platform... using builtin-java classes where applicable\n"
     ]
    }
   ],
   "source": [
    "from pyspark.sql import SparkSession\n",
    "from pyspark.sql.types import *\n",
    "from pyspark.sql import functions as F\n",
    "from pyspark.sql.functions import col\n",
    "from pyspark.sql.types import TimestampType\n",
    "\n",
    "spark = SparkSession.builder.appName(\"Project2\").getOrCreate()\n",
    "\n",
    "spark.conf.set(\"spark.sql.legacy.timeParserPolicy\", \"LEGACY\")\n",
    "\n",
    "output_dir = \"output/\"\n",
    "task2_output_total = output_dir + \"task2/task2_total.csv\"\n",
    "task2_output_avgsales = output_dir + \"task2/task2_avgsales.csv\"\n",
    "task2_output_season = output_dir + \"task2/task2_season.csv\"\n",
    "task3_output = output_dir + \"task3/task3.csv\"\n",
    "task4_output = output_dir + \"task4/task4.csv\"\n",
    "\n",
    "checkpoint_dir = \"checkpoint/task5/\"\n",
    "task5_output = output_dir + \"task5.csv\""
   ]
  },
  {
   "cell_type": "code",
   "execution_count": 2,
   "metadata": {},
   "outputs": [
    {
     "name": "stderr",
     "output_type": "stream",
     "text": [
      "                                                                                \r"
     ]
    },
    {
     "name": "stdout",
     "output_type": "stream",
     "text": [
      "+----------+-------+--------------------+--------------------+--------------------+\n",
      "|      asin|helpful|      main_image_url|       product_title|            sentence|\n",
      "+----------+-------+--------------------+--------------------+--------------------+\n",
      "|B000AO3L84|    1.7|http://ecx.images...|Canon 430EX Speed...|this flash is a s...|\n",
      "|B001SEQPGK|    1.3|http://ecx.images...|Sony Cyber-shot D...|The pictures were...|\n",
      "|0553386697|    1.9|http://ecx.images...|The Whole-Brain C...|A very good resou...|\n",
      "|B006SUWZH2|   0.25|http://ecx.images...|Memorex Portable ...|We have it in a c...|\n",
      "|B000W7F5SS|    0.9|http://ecx.images...|Harry Potter and ...|Again the makers ...|\n",
      "|B000AO3L84|    2.0|http://ecx.images...|Canon 430EX Speed...|This flash is a g...|\n",
      "|B00081NX5U|   0.73|http://ecx.images...|iPod Detachable R...|So I've had these...|\n",
      "|B00000F1D3|    0.9|http://ecx.images...|             Believe|they're cd's or t...|\n",
      "|B00000FCBH|    1.3|http://ecx.images...|  2Pac Greatest Hits|he proved that ev...|\n",
      "|B00013M6NU|    0.4|http://ecx.images...|Nikon MH-61 Batte...|I realize these t...|\n",
      "|0375703764|    1.5|http://ecx.images...|     House of Leaves|Emulate contortio...|\n",
      "|B000002GJH|    0.9|http://ecx.images...|   Temple Of The Dog|The best tracks i...|\n",
      "|B002JSM3KQ|    0.2|http://ecx.images...|Monopoly Board Ga...|, so Amazon likes...|\n",
      "|B008FSCNTK|    0.4|http://ecx.images...|       Glad Rag Doll|but I'll be check...|\n",
      "|B003T90WY8|    1.7|http://ecx.images...|EARBUDi Clips on ...|Edit to add: Thes...|\n",
      "|B00002E220|    0.8|http://ecx.images...|  Last of the Dogmen|I had the VHS and...|\n",
      "|B0002COTDA|    1.0|http://ecx.images...|Columbo - The Com...|Columbo is one of...|\n",
      "|0061208493|   1.36|http://ecx.images...|The Complete C. S...|any of his books ...|\n",
      "|B000002KB8|    1.0|http://ecx.images...|       Black Sabbath|The title has not...|\n",
      "|0470474874|    1.1|http://ecx.images...|    Excel 2010 Bible|It basically copi...|\n",
      "+----------+-------+--------------------+--------------------+--------------------+\n",
      "only showing top 20 rows\n",
      "\n"
     ]
    }
   ],
   "source": [
    "train_df = spark.read.json(\"train.json\")\n",
    "reviwes_df = spark.read.json(\"test.json\")\n",
    "train_df.show()\n",
    "#reviwes_df = reviwes_df.withColumn(\"helpful\", F.col(\"helpful\").cast(\"double\"))\n",
    "#reviwes_df.printSchema()\n",
    "#print(reviwes_df.describe())\n",
    "# Check if any rows have nulls in the 'helpful' column after casting\n",
    "#invalid_rows = reviwes_df.filter(F.col(\"sentence\").isNull())\n",
    "# Show rows that could not be cast to double\n",
    "#invalid_rows.show()"
   ]
  },
  {
   "cell_type": "code",
   "execution_count": 3,
   "metadata": {},
   "outputs": [
    {
     "name": "stdout",
     "output_type": "stream",
     "text": [
      "+----------+-------+--------------------+--------------------+--------------------+\n",
      "|      asin|helpful|      main_image_url|       product_title|            sentence|\n",
      "+----------+-------+--------------------+--------------------+--------------------+\n",
      "|B00VG90446|   1.07|http://ecx.images...|Flexion KS-902 Ki...|so it stays in pl...|\n",
      "|B001196MG0|   1.33|http://ecx.images...|Savage 107X12-1 S...|Love this seamles...|\n",
      "|B00081NX5U|   1.17|http://ecx.images...|iPod Detachable R...|very happy with m...|\n",
      "|B003HC9JIW|    1.6|http://ecx.images...|Start! Walking At...|Even for someone ...|\n",
      "|B00C30FCUI|   1.49|http://ecx.images...|Symphonized NRG P...|, those have alwa...|\n",
      "|B001196MG0|   1.47|http://ecx.images...|Savage 107X12-1 S...|but after a year ...|\n",
      "|B00AR1G3FS|   1.24|http://ecx.images...|Farewell Live Fro...|While not quite a...|\n",
      "|B007R3AZNK|   0.67|http://ecx.images...|Driving Towards T...|Until now, Sloe G...|\n",
      "|0761165975|    1.0|http://ecx.images...|The Wedding Plann...|I considered the ...|\n",
      "|B00000FCBH|   0.03|http://ecx.images...|  2Pac Greatest Hits|\"Baby, don't cry,...|\n",
      "|B000HKDE7Y|   0.74|http://ecx.images...|Struggle From The...|I'm glad I bought...|\n",
      "|B00081NX5U|   1.59|http://ecx.images...|iPod Detachable R...|Great sound I bou...|\n",
      "|0451232852|    0.5|http://ecx.images...|Fall of Giants: B...|The Age of Enligh...|\n",
      "|B000AO3L84|   1.66|http://ecx.images...|Canon 430EX Speed...|When you take pic...|\n",
      "|B000002IAO|   0.75|http://ecx.images...|  In-A-Gadda-Da-Vida|There were times ...|\n",
      "|B000002GJH|   0.37|http://ecx.images...|   Temple Of The Dog|Grunge can't just...|\n",
      "|0671015206|   1.03|http://ecx.images...|The Millionaire N...|Worth Skipping, o...|\n",
      "|0670012335|   0.31|http://ecx.images...|Llama Llama Time ...|This was a Christ...|\n",
      "|B0019FHM9M|   0.39|http://ecx.images...|Lowpricenice MH20...|-----------------...|\n",
      "|0399162089|   1.13|http://ecx.images...|Outside the Lines...|I couldn't make t...|\n",
      "+----------+-------+--------------------+--------------------+--------------------+\n",
      "only showing top 20 rows\n",
      "\n"
     ]
    }
   ],
   "source": [
    "reviwes_df.show()"
   ]
  },
  {
   "cell_type": "code",
   "execution_count": 4,
   "metadata": {},
   "outputs": [
    {
     "name": "stderr",
     "output_type": "stream",
     "text": [
      "                                                                                \r"
     ]
    }
   ],
   "source": [
    "online_retail_df = spark.read.csv(\"Online-Retail.csv\", inferSchema=True, header=True)"
   ]
  },
  {
   "cell_type": "code",
   "execution_count": 5,
   "metadata": {},
   "outputs": [
    {
     "name": "stderr",
     "output_type": "stream",
     "text": [
      "[Stage 6:>                                                          (0 + 2) / 2]\r"
     ]
    },
    {
     "name": "stdout",
     "output_type": "stream",
     "text": [
      "+---------+---------+-----------+--------+-----------+---------+----------+-------+\n",
      "|InvoiceNo|StockCode|Description|Quantity|InvoiceDate|UnitPrice|CustomerID|Country|\n",
      "+---------+---------+-----------+--------+-----------+---------+----------+-------+\n",
      "|        0|        0|       1454|       0|          0|        0|    135080|      0|\n",
      "+---------+---------+-----------+--------+-----------+---------+----------+-------+\n",
      "\n"
     ]
    },
    {
     "name": "stderr",
     "output_type": "stream",
     "text": [
      "                                                                                \r"
     ]
    }
   ],
   "source": [
    "online_retail_df.select([F.count(F.when(col(c).isNull(), c)).alias(c) for c in online_retail_df.columns]).show()\n",
    "\n",
    "# Drop rows with nulls in important columns like CustomerID, Description, etc.\n",
    "online_retail_df = online_retail_df.dropna(subset=[\"CustomerID\", \"Description\", \"InvoiceDate\", \"Quantity\", \"UnitPrice\"])\n",
    "#online_retail_df.select([F.count(F.when(col(c).isNull(), c)).alias(c) for c in online_retail_df.columns]).show()"
   ]
  },
  {
   "cell_type": "code",
   "execution_count": 6,
   "metadata": {},
   "outputs": [],
   "source": [
    "#drop duplicates\n",
    "online_retail_df = online_retail_df.dropDuplicates()"
   ]
  },
  {
   "cell_type": "code",
   "execution_count": 7,
   "metadata": {},
   "outputs": [],
   "source": [
    "#cast the invoice date to timestamp\n",
    "online_retail_df = online_retail_df.withColumn(\"InvoiceDate\", F.to_timestamp(\"InvoiceDate\", \"M/d/yyyy H:mm\"))\n",
    "online_retail_df = online_retail_df.withColumn(\"InvoiceDate\", F.col(\"InvoiceDate\").cast(TimestampType()))"
   ]
  },
  {
   "cell_type": "code",
   "execution_count": 8,
   "metadata": {},
   "outputs": [
    {
     "name": "stderr",
     "output_type": "stream",
     "text": [
      "[Stage 9:=============================>                             (1 + 1) / 2]\r"
     ]
    },
    {
     "name": "stdout",
     "output_type": "stream",
     "text": [
      "+---------+---------+--------------------+--------+-------------------+---------+----------+--------------+\n",
      "|InvoiceNo|StockCode|         Description|Quantity|        InvoiceDate|UnitPrice|CustomerID|       Country|\n",
      "+---------+---------+--------------------+--------+-------------------+---------+----------+--------------+\n",
      "|  C538350|   85099F|JUMBO BAG STRAWBERRY|      -2|2010-12-10 15:01:00|     1.65|     13798|United Kingdom|\n",
      "|  C538375|    22220|CAKE STAND LOVEBI...|      -1|2010-12-12 11:19:00|     9.95|     17126|United Kingdom|\n",
      "|  C539726|    22791|T-LIGHT GLASS FLU...|     -10|2010-12-21 14:24:00|     1.25|     17007|United Kingdom|\n",
      "|  C540307|    22084|PAPER CHAIN KIT E...|     -36|2011-01-06 12:58:00|     2.95|     15823|United Kingdom|\n",
      "|  C542138|    20866|BLUE ROSE FABRIC ...|    -120|2011-01-25 17:21:00|     1.06|     17368|United Kingdom|\n",
      "|  C543347|    22629| SPACEBOY LUNCH BOX |      -1|2011-02-07 12:44:00|     1.95|     12472|       Germany|\n",
      "|  C544830|    22059|CERAMIC STRAWBERR...|      -6|2011-02-24 09:59:00|     1.49|     13118|United Kingdom|\n",
      "|  C545456|    21527|RED RETROSPOT TRA...|      -1|2011-03-02 17:15:00|     7.95|     17865|United Kingdom|\n",
      "|  C545773|    21843|RED RETROSPOT CAK...|      -1|2011-03-07 12:06:00|    10.95|     17139|United Kingdom|\n",
      "|  C546168|    22892|SET OF SALT AND P...|     -12|2011-03-10 10:22:00|     1.25|     16670|United Kingdom|\n",
      "|  C546511|    22801|ANTIQUE GLASS PED...|      -1|2011-03-14 12:19:00|     3.75|     12921|United Kingdom|\n",
      "|  C548015|    82583|HOT BATHS METAL SIGN|     -30|2011-03-29 11:30:00|     1.69|     13802|United Kingdom|\n",
      "|  C548187|    22423|REGENCY CAKESTAND...|      -1|2011-03-29 15:06:00|    12.75|     17511|United Kingdom|\n",
      "|  C550423|    23052|RECYCLED ACAPULCO...|      -1|2011-04-18 12:06:00|     8.25|     14403|United Kingdom|\n",
      "|  C551140|    48194|      DOORMAT HEARTS|      -1|2011-04-26 13:11:00|     7.95|     17613|United Kingdom|\n",
      "|  C553667|    84816|DANISH ROSE BEDSI...|      -1|2011-05-18 12:21:00|    39.95|     14755|United Kingdom|\n",
      "|  C554848|    21642|ASSORTED TUTTI FR...|     -12|2011-05-26 19:56:00|     0.85|     13659|United Kingdom|\n",
      "|  C559049|    23079|TOADSTOOL BEDSIDE...|      -2|2011-07-05 15:50:00|     8.95|     12494|        France|\n",
      "|  C562952|    22981|  PANTRY APPLE CORER|      -5|2011-08-11 10:10:00|     1.45|     12749|United Kingdom|\n",
      "|  C542642|    22720|SET OF 3 CAKE TIN...|      -1|2011-01-31 11:27:00|     4.95|     15827|United Kingdom|\n",
      "+---------+---------+--------------------+--------+-------------------+---------+----------+--------------+\n",
      "only showing top 20 rows\n",
      "\n"
     ]
    },
    {
     "name": "stderr",
     "output_type": "stream",
     "text": [
      "                                                                                \r"
     ]
    }
   ],
   "source": [
    "#check for outliers\n",
    "online_retail_df.filter((col(\"Quantity\") < 0) | (col(\"UnitPrice\") < 0)).show()\n",
    "\n",
    "# Drop rows where Quantity or UnitPrice are negative (common outlier check)\n",
    "online_retail_df = online_retail_df.filter((F.col(\"Quantity\") >= 0) & (F.col(\"UnitPrice\") >= 0))\n",
    "#online_retail_df.filter((col(\"Quantity\") < 0) | (col(\"UnitPrice\") < 0)).show()"
   ]
  },
  {
   "cell_type": "code",
   "execution_count": 9,
   "metadata": {},
   "outputs": [],
   "source": [
    "#standardize for consistent description characters\n",
    "online_retail_df = online_retail_df.withColumn(\"Description\", F.upper(F.col(\"Description\")))\n",
    "\n",
    "#handle special cases in case for better performance for MLlib\n",
    "#online_retail_df = online_retail_df.filter(~F.col(\"InvoiceNo\").startswith(\"C\"))"
   ]
  },
  {
   "cell_type": "code",
   "execution_count": 10,
   "metadata": {},
   "outputs": [
    {
     "name": "stderr",
     "output_type": "stream",
     "text": [
      "24/11/12 23:57:51 WARN GarbageCollectionMetrics: To enable non-built-in garbage collector(s) List(G1 Concurrent GC), users should configure it(them) to spark.eventLog.gcMetrics.youngGenerationGarbageCollectors or spark.eventLog.gcMetrics.oldGenerationGarbageCollectors\n",
      "[Stage 12:=============================>                            (1 + 1) / 2]\r"
     ]
    },
    {
     "name": "stdout",
     "output_type": "stream",
     "text": [
      "+---------+---------+--------------------+--------+-------------------+---------+----------+--------------+\n",
      "|InvoiceNo|StockCode|         Description|Quantity|        InvoiceDate|UnitPrice|CustomerID|       Country|\n",
      "+---------+---------+--------------------+--------+-------------------+---------+----------+--------------+\n",
      "|   536367|    22745|POPPY'S PLAYHOUSE...|       6|2010-12-01 08:34:00|      2.1|     13047|United Kingdom|\n",
      "|   536368|    22960|JAM MAKING SET WI...|       6|2010-12-01 08:34:00|     4.25|     13047|United Kingdom|\n",
      "|   536388|    22915|ASSORTED BOTTLE T...|      12|2010-12-01 09:59:00|     0.42|     16250|United Kingdom|\n",
      "|   536401|    21464|DISCO BALL ROTATO...|       1|2010-12-01 11:21:00|     4.25|     15862|United Kingdom|\n",
      "|   536412|    22569|FELTCRAFT CUSHION...|       2|2010-12-01 11:49:00|     3.75|     17920|United Kingdom|\n",
      "|   536425|    22645|CERAMIC HEART FAI...|      12|2010-12-01 12:08:00|     1.45|     13758|United Kingdom|\n",
      "|   536488|    22376|AIRLINE BAG VINTA...|       1|2010-12-01 12:31:00|     4.25|     17897|United Kingdom|\n",
      "|   536520|    21930|JUMBO STORAGE BAG...|       1|2010-12-01 12:43:00|     1.95|     14729|United Kingdom|\n",
      "|   536534|    22866|HAND WARMER SCOTT...|      12|2010-12-01 13:33:00|      2.1|     15350|United Kingdom|\n",
      "|   536540|   85136A|YELLOW SHARK HELI...|       2|2010-12-01 14:05:00|     7.95|     14911|          EIRE|\n",
      "|   536562|   79302M|ART LIGHTS,FUNK M...|       6|2010-12-01 15:08:00|     2.95|     13468|United Kingdom|\n",
      "|   536569|    22941|CHRISTMAS LIGHTS ...|       1|2010-12-01 15:35:00|      8.5|     16274|United Kingdom|\n",
      "|   536571|    21352|EUCALYPTUS & PINE...|       2|2010-12-01 15:37:00|     6.75|     14696|United Kingdom|\n",
      "|   536591|    21985|PACK OF 12 HEARTS...|       4|2010-12-01 16:58:00|     0.29|     14606|United Kingdom|\n",
      "|   536624|    22672|FRENCH BATHROOM S...|      12|2010-12-02 10:45:00|     1.65|     13418|United Kingdom|\n",
      "|   536624|    21843|RED RETROSPOT CAK...|       4|2010-12-02 10:45:00|    10.95|     13418|United Kingdom|\n",
      "|   536630|    22752|SET 7 BABUSHKA NE...|       2|2010-12-02 10:56:00|     7.65|     17850|United Kingdom|\n",
      "|   536635|    22441|GROW YOUR OWN BAS...|       8|2010-12-02 11:22:00|      2.1|     15955|United Kingdom|\n",
      "|   536667|    22594|CHRISTMAS GINGHAM...|      24|2010-12-02 12:09:00|     0.85|     15260|United Kingdom|\n",
      "|   536671|    22740|        POLKADOT PEN|      48|2010-12-02 12:10:00|     0.85|     13305|United Kingdom|\n",
      "+---------+---------+--------------------+--------+-------------------+---------+----------+--------------+\n",
      "only showing top 20 rows\n",
      "\n"
     ]
    },
    {
     "name": "stderr",
     "output_type": "stream",
     "text": [
      "                                                                                \r"
     ]
    }
   ],
   "source": [
    "online_retail_df.show()"
   ]
  },
  {
   "cell_type": "code",
   "execution_count": 11,
   "metadata": {},
   "outputs": [
    {
     "name": "stderr",
     "output_type": "stream",
     "text": [
      "[Stage 17:=============================>                            (1 + 1) / 2]\r"
     ]
    },
    {
     "name": "stdout",
     "output_type": "stream",
     "text": [
      "+---------+-----+----+------------------+\n",
      "|StockCode|Month|Year|        TotalSales|\n",
      "+---------+-----+----+------------------+\n",
      "|    22963|    1|2011|254.98000000000002|\n",
      "|    22720|    3|2011|            3614.7|\n",
      "|    23165|    6|2011| 789.6000000000001|\n",
      "|    22549|    1|2011|              87.0|\n",
      "|    22804|    3|2011| 638.1500000000001|\n",
      "|    22055|    3|2011|345.65000000000003|\n",
      "|    22629|    4|2011| 922.6499999999997|\n",
      "|    37500|    3|2011|198.00000000000003|\n",
      "|    22407|    4|2011|             18.75|\n",
      "|    23140|    4|2011|            152.25|\n",
      "|    22090|    7|2011|2018.8000000000002|\n",
      "|    22899|    1|2011|             292.1|\n",
      "|    21217|    4|2011| 708.1999999999998|\n",
      "|    23156|    4|2011|350.84000000000003|\n",
      "|    22328|    6|2011|1557.4500000000003|\n",
      "|    21930|    6|2011|1285.7999999999995|\n",
      "|    20679|    6|2011|243.95000000000005|\n",
      "|   85035A|    7|2011|              51.0|\n",
      "|    22604|    8|2011|             53.55|\n",
      "|    21747|    1|2011|              35.0|\n",
      "+---------+-----+----+------------------+\n",
      "only showing top 20 rows\n",
      "\n"
     ]
    },
    {
     "name": "stderr",
     "output_type": "stream",
     "text": [
      "                                                                                \r"
     ]
    }
   ],
   "source": [
    "#-----------------------------------\n",
    "#Task 2: Sales Data Aggregation and Feature Engineering\n",
    "#-----------------------------------\n",
    "#total sales per product per month\n",
    "#get the month and year from invoicedate\n",
    "online_retail_df = online_retail_df.withColumn(\"Month\", F.month(\"InvoiceDate\")).withColumn(\"Year\", F.year(\"InvoiceDate\"))\n",
    "\n",
    "#make a revenue column, total quantity * price\n",
    "online_retail_df = online_retail_df.withColumn(\"Revenue\", col(\"Quantity\") * col(\"UnitPrice\"))\n",
    "\n",
    "#total sales per product and month. calculated by summing total quantity * price\n",
    "total_sales_df = online_retail_df.groupBy(\"StockCode\", \"Month\", \"Year\").agg(F.sum(\"Revenue\").alias(\"TotalSales\"))\n",
    "total_sales_df.show()"
   ]
  },
  {
   "cell_type": "code",
   "execution_count": 12,
   "metadata": {},
   "outputs": [
    {
     "name": "stderr",
     "output_type": "stream",
     "text": [
      "[Stage 23:>                                                         (0 + 2) / 2]\r"
     ]
    },
    {
     "name": "stdout",
     "output_type": "stream",
     "text": [
      "+----------+------------------+\n",
      "|CustomerID|    AverageRevenue|\n",
      "+----------+------------------+\n",
      "|     12346|           77183.6|\n",
      "|     16446|           56157.5|\n",
      "|     15098|           13305.5|\n",
      "|     15749|           4453.43|\n",
      "|     15195|            3861.0|\n",
      "|     13135|            3096.0|\n",
      "|     17846|            2033.1|\n",
      "|     18087|2027.8599999999997|\n",
      "|     16532|            1687.2|\n",
      "|     16000|1377.0777777777778|\n",
      "|     16754|            1001.2|\n",
      "|     12755| 952.9874999999998|\n",
      "|     18133| 931.4999999999999|\n",
      "|     12798| 872.1299999999999|\n",
      "|     17949| 835.8640000000001|\n",
      "|     17553|             743.8|\n",
      "|     15299| 643.8585714285715|\n",
      "|     16308|             640.0|\n",
      "|     16986|             624.4|\n",
      "|     18080|            615.75|\n",
      "+----------+------------------+\n",
      "only showing top 20 rows\n",
      "\n"
     ]
    },
    {
     "name": "stderr",
     "output_type": "stream",
     "text": [
      "                                                                                \r"
     ]
    }
   ],
   "source": [
    "#average revenue per customer\n",
    "#get average revnue for each customer id\n",
    "avg_revnue_df = online_retail_df.groupBy(\"CustomerID\").agg(F.avg(\"Revenue\").alias(\"AverageRevenue\")).orderBy(F.desc(\"AverageRevenue\"))\n",
    "avg_revnue_df.show()"
   ]
  },
  {
   "cell_type": "code",
   "execution_count": 13,
   "metadata": {},
   "outputs": [
    {
     "name": "stderr",
     "output_type": "stream",
     "text": [
      "[Stage 35:>                                                         (0 + 2) / 2]\r"
     ]
    },
    {
     "name": "stdout",
     "output_type": "stream",
     "text": [
      "+---------+-----+------------------+\n",
      "|StockCode|Month|      MonthlySales|\n",
      "+---------+-----+------------------+\n",
      "|   85123A|   10| 4552.740000000001|\n",
      "|     POST|    1|            5109.0|\n",
      "|   85099B|   10| 9763.060000000005|\n",
      "|    84879|    2| 2620.909999999999|\n",
      "|     POST|   10|            7993.5|\n",
      "|     POST|   12|            7190.0|\n",
      "|    47566|   11|3715.7099999999996|\n",
      "|   85123A|    1|14962.049999999996|\n",
      "|   85123A|    3| 5262.499999999999|\n",
      "|    84879|    9| 4866.639999999997|\n",
      "|    47566|    9|            4387.0|\n",
      "|     POST|    6|           5510.02|\n",
      "|        M|   10|          21183.63|\n",
      "|        M|   12|            666.27|\n",
      "|    84879|    3|3997.9799999999987|\n",
      "|   85123A|    5|10700.419999999995|\n",
      "|    47566|    3| 6129.150000000001|\n",
      "|    23166|    7|            826.94|\n",
      "|     POST|    9|            5894.5|\n",
      "|    23166|   10|            283.67|\n",
      "+---------+-----+------------------+\n",
      "only showing top 20 rows\n",
      "\n"
     ]
    },
    {
     "name": "stderr",
     "output_type": "stream",
     "text": [
      "                                                                                \r"
     ]
    }
   ],
   "source": [
    "#seasonal patterns for top selling products\n",
    "#get products by stock code and their highest total revnue as sum\n",
    "top_products_df = online_retail_df.groupBy(\"StockCode\").agg(F.sum(\"Revenue\").alias(\"TotalRevenue\")).orderBy(F.desc(\"TotalRevenue\"))\n",
    "    \n",
    "#join with df to get montly data, group by product and month for each of their total revenue\n",
    "seasonal_pattern = online_retail_df.join(top_products_df.limit(10), \"StockCode\").groupBy(\"StockCode\", \"Month\").agg(F.sum(\"Revenue\").alias(\"MonthlySales\"))\n",
    "seasonal_pattern.show()"
   ]
  },
  {
   "cell_type": "code",
   "execution_count": 14,
   "metadata": {},
   "outputs": [
    {
     "name": "stderr",
     "output_type": "stream",
     "text": [
      "[Stage 41:>                                                         (0 + 2) / 2]\r"
     ]
    },
    {
     "name": "stdout",
     "output_type": "stream",
     "text": [
      "+----------+---------------------+\n",
      "|CustomerID|CustomerLifetimeValue|\n",
      "+----------+---------------------+\n",
      "|     14570|               218.06|\n",
      "|     13285|              2709.12|\n",
      "|     16503|   1431.9300000000003|\n",
      "|     13623|               727.74|\n",
      "|     15727|    5159.060000000001|\n",
      "|     18024|               389.78|\n",
      "|     17389|             31833.68|\n",
      "|     14450|    483.2500000000001|\n",
      "|     17420|    598.8299999999999|\n",
      "|     16339|    94.05000000000001|\n",
      "|     15447|   155.17000000000002|\n",
      "|     16386|   302.57000000000005|\n",
      "|     12940|    899.6900000000002|\n",
      "|     17679|   1992.1100000000001|\n",
      "|     15957|               428.89|\n",
      "|     15619|   336.40000000000003|\n",
      "|     16574|               451.44|\n",
      "|     15790|   218.74999999999994|\n",
      "|     16861|   173.76000000000002|\n",
      "|     13832|   52.199999999999996|\n",
      "+----------+---------------------+\n",
      "only showing top 20 rows\n",
      "\n"
     ]
    },
    {
     "name": "stderr",
     "output_type": "stream",
     "text": [
      "                                                                                \r"
     ]
    }
   ],
   "source": [
    "#customer liftime value: total revenue per customer\n",
    "clv_df = online_retail_df.groupBy(\"CustomerID\").agg(F.sum(\"Revenue\").alias(\"CustomerLifetimeValue\"))\n",
    "clv_df.show()"
   ]
  },
  {
   "cell_type": "code",
   "execution_count": 15,
   "metadata": {},
   "outputs": [
    {
     "name": "stderr",
     "output_type": "stream",
     "text": [
      "[Stage 45:=============================>                            (1 + 1) / 2]\r"
     ]
    },
    {
     "name": "stdout",
     "output_type": "stream",
     "text": [
      "+---------+---------------+\n",
      "|StockCode|PopularityScore|\n",
      "+---------+---------------+\n",
      "|    21889|            449|\n",
      "|    21259|            237|\n",
      "|    22728|            613|\n",
      "|    21452|            133|\n",
      "|    22121|            114|\n",
      "|    21894|             71|\n",
      "|    90143|              7|\n",
      "|    22596|            234|\n",
      "|    84881|              5|\n",
      "|    21248|             52|\n",
      "|    22254|             41|\n",
      "|    21249|             79|\n",
      "|    23318|            329|\n",
      "|   90026D|              3|\n",
      "|    90022|              4|\n",
      "|    21331|              7|\n",
      "|    23459|             19|\n",
      "|    20868|             31|\n",
      "|   90210B|              6|\n",
      "|    23843|              1|\n",
      "+---------+---------------+\n",
      "only showing top 20 rows\n",
      "\n"
     ]
    },
    {
     "name": "stderr",
     "output_type": "stream",
     "text": [
      "                                                                                \r"
     ]
    }
   ],
   "source": [
    "#product popularity: counted by unique transaction made under each stock code\n",
    "product_popularity = online_retail_df.groupBy(\"StockCode\").agg(F.countDistinct(\"InvoiceNo\").alias(\"PopularityScore\"))\n",
    "product_popularity.show()"
   ]
  },
  {
   "cell_type": "code",
   "execution_count": 16,
   "metadata": {},
   "outputs": [
    {
     "name": "stderr",
     "output_type": "stream",
     "text": [
      "[Stage 53:>                                                         (0 + 2) / 2]\r"
     ]
    },
    {
     "name": "stdout",
     "output_type": "stream",
     "text": [
      "+---------+------+------------------+\n",
      "|StockCode|Season|     SeasonalSales|\n",
      "+---------+------+------------------+\n",
      "|    21110|Winter|            1349.3|\n",
      "|    22668|Winter|            1411.7|\n",
      "|    23203|Summer|15717.460000000015|\n",
      "|    21213|Summer|1750.9500000000003|\n",
      "|    21371|Summer|             129.0|\n",
      "|    22728|Summer|           4546.26|\n",
      "|    22966|Winter|2459.8599999999997|\n",
      "|   90002D|Winter|              30.0|\n",
      "|    22149|Spring|            2487.7|\n",
      "|    22661|Summer|1333.0500000000002|\n",
      "|    22089|Summer| 926.7500000000002|\n",
      "|    37446|Winter| 659.5999999999999|\n",
      "|    22252|Spring|             97.94|\n",
      "|    22760|Winter|             849.9|\n",
      "|   84558A|Winter|268.45000000000005|\n",
      "|    22421|Winter|            159.48|\n",
      "|    22301|Winter|1107.4499999999998|\n",
      "|    22537|Spring|            190.26|\n",
      "|    23147|Summer|1035.2999999999995|\n",
      "|    16219|Summer|197.99999999999997|\n",
      "+---------+------+------------------+\n",
      "only showing top 20 rows\n",
      "\n"
     ]
    },
    {
     "name": "stderr",
     "output_type": "stream",
     "text": [
      "                                                                                \r"
     ]
    }
   ],
   "source": [
    "#seasonal trends:\n",
    "#make season column based on month\n",
    "online_retail_df = online_retail_df.withColumn(\"Season\",\n",
    "                    F.when(col(\"Month\").isin(12, 1, 2), \"Winter\") #if month is in one of these numbers\n",
    "                    .when(col(\"Month\").isin(3, 4, 5), \"Spring\")\n",
    "                    .when(col(\"Month\").isin(6, 7, 8), \"Summer\")\n",
    "                    .when(col(\"Month\").isin(9, 10, 11), \"Fall\")\n",
    "                    )\n",
    "    \n",
    "#total revenue of each product and season\n",
    "seasonal_trends = online_retail_df.groupBy(\"StockCode\", \"Season\").agg(F.sum(\"Revenue\").alias(\"SeasonalSales\"))\n",
    "seasonal_trends.show()"
   ]
  },
  {
   "cell_type": "code",
   "execution_count": 17,
   "metadata": {},
   "outputs": [
    {
     "name": "stderr",
     "output_type": "stream",
     "text": [
      "                                                                                \r"
     ]
    }
   ],
   "source": [
    "#write the aggregated data to the directory as csv files\n",
    "try:\n",
    "    total_sales_df.write.csv(task2_output_total, header=True)\n",
    "    avg_revnue_df.write.csv(task2_output_avgsales, header=True)\n",
    "    seasonal_pattern.write.csv(task2_output_season, header=True)\n",
    "except ValueError as e:\n",
    "    print(f\"error {e}\")"
   ]
  }
 ],
 "metadata": {
  "kernelspec": {
   "display_name": "Python 3",
   "language": "python",
   "name": "python3"
  },
  "language_info": {
   "codemirror_mode": {
    "name": "ipython",
    "version": 3
   },
   "file_extension": ".py",
   "mimetype": "text/x-python",
   "name": "python",
   "nbconvert_exporter": "python",
   "pygments_lexer": "ipython3",
   "version": "3.12.1"
  }
 },
 "nbformat": 4,
 "nbformat_minor": 2
}
